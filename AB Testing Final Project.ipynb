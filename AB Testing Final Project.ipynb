{
 "cells": [
  {
   "cell_type": "markdown",
   "metadata": {},
   "source": [
    "# A/B Testing Final Project - Udacity"
   ]
  },
  {
   "cell_type": "markdown",
   "metadata": {},
   "source": [
    "## Step1: Choosing Metrics"
   ]
  },
  {
   "cell_type": "markdown",
   "metadata": {},
   "source": [
    "### 1. Invariant Metrics: number of cookies, number of clicks and click-through-probability."
   ]
  },
  {
   "cell_type": "markdown",
   "metadata": {},
   "source": [
    "### 2. Evaluation Metrics: gross conversion, retention and net conversion. (Note : the number of user-id is not invariant metrics but it cannot be measured, so not in the evaluation metrics as well)"
   ]
  },
  {
   "cell_type": "markdown",
   "metadata": {},
   "source": [
    "## Step2. Calculating Standard Deviation for evaluation matrics"
   ]
  },
  {
   "cell_type": "markdown",
   "metadata": {},
   "source": [
    "#### Given a sample size of 5000 cookies visiting the course overview page."
   ]
  },
  {
   "cell_type": "code",
   "execution_count": 185,
   "metadata": {},
   "outputs": [],
   "source": [
    "import pandas as pd\n",
    "import numpy as np\n",
    "import scipy.stats\n",
    "\n",
    "pageviews = 5000"
   ]
  },
  {
   "cell_type": "code",
   "execution_count": 186,
   "metadata": {},
   "outputs": [
    {
     "data": {
      "text/html": [
       "<div>\n",
       "<style scoped>\n",
       "    .dataframe tbody tr th:only-of-type {\n",
       "        vertical-align: middle;\n",
       "    }\n",
       "\n",
       "    .dataframe tbody tr th {\n",
       "        vertical-align: top;\n",
       "    }\n",
       "\n",
       "    .dataframe thead th {\n",
       "        text-align: right;\n",
       "    }\n",
       "</style>\n",
       "<table border=\"1\" class=\"dataframe\">\n",
       "  <thead>\n",
       "    <tr style=\"text-align: right;\">\n",
       "      <th></th>\n",
       "      <th>metric</th>\n",
       "      <th>baseline_val</th>\n",
       "    </tr>\n",
       "  </thead>\n",
       "  <tbody>\n",
       "    <tr>\n",
       "      <th>0</th>\n",
       "      <td>Unique cookies to view course overview page pe...</td>\n",
       "      <td>40000.000000</td>\n",
       "    </tr>\n",
       "    <tr>\n",
       "      <th>1</th>\n",
       "      <td>Unique cookies to click \"Start free trial\" per...</td>\n",
       "      <td>3200.000000</td>\n",
       "    </tr>\n",
       "    <tr>\n",
       "      <th>2</th>\n",
       "      <td>Enrollments per day:</td>\n",
       "      <td>660.000000</td>\n",
       "    </tr>\n",
       "    <tr>\n",
       "      <th>3</th>\n",
       "      <td>Click-through-probability on \"Start free trial\":</td>\n",
       "      <td>0.080000</td>\n",
       "    </tr>\n",
       "    <tr>\n",
       "      <th>4</th>\n",
       "      <td>Probability of enrolling, given click:</td>\n",
       "      <td>0.206250</td>\n",
       "    </tr>\n",
       "    <tr>\n",
       "      <th>5</th>\n",
       "      <td>Probability of payment, given enroll:</td>\n",
       "      <td>0.530000</td>\n",
       "    </tr>\n",
       "    <tr>\n",
       "      <th>6</th>\n",
       "      <td>Probability of payment, given click</td>\n",
       "      <td>0.109313</td>\n",
       "    </tr>\n",
       "  </tbody>\n",
       "</table>\n",
       "</div>"
      ],
      "text/plain": [
       "                                              metric  baseline_val\n",
       "0  Unique cookies to view course overview page pe...  40000.000000\n",
       "1  Unique cookies to click \"Start free trial\" per...   3200.000000\n",
       "2                               Enrollments per day:    660.000000\n",
       "3   Click-through-probability on \"Start free trial\":      0.080000\n",
       "4             Probability of enrolling, given click:      0.206250\n",
       "5              Probability of payment, given enroll:      0.530000\n",
       "6                Probability of payment, given click      0.109313"
      ]
     },
     "execution_count": 186,
     "metadata": {},
     "output_type": "execute_result"
    }
   ],
   "source": [
    "df_basevals = pd.read_csv('/Users/pan/Desktop/A:B Testing/data/Final Project Baseline Values.csv',\n",
    "                          index_col=False,header = None, names = ['metric','baseline_val'])\n",
    "df_basevals"
   ]
  },
  {
   "cell_type": "code",
   "execution_count": 187,
   "metadata": {},
   "outputs": [
    {
     "data": {
      "text/html": [
       "<div>\n",
       "<style scoped>\n",
       "    .dataframe tbody tr th:only-of-type {\n",
       "        vertical-align: middle;\n",
       "    }\n",
       "\n",
       "    .dataframe tbody tr th {\n",
       "        vertical-align: top;\n",
       "    }\n",
       "\n",
       "    .dataframe thead th {\n",
       "        text-align: right;\n",
       "    }\n",
       "</style>\n",
       "<table border=\"1\" class=\"dataframe\">\n",
       "  <thead>\n",
       "    <tr style=\"text-align: right;\">\n",
       "      <th></th>\n",
       "      <th>metric</th>\n",
       "      <th>baseline_val</th>\n",
       "    </tr>\n",
       "  </thead>\n",
       "  <tbody>\n",
       "    <tr>\n",
       "      <th>0</th>\n",
       "      <td>No_cookies</td>\n",
       "      <td>40000.000000</td>\n",
       "    </tr>\n",
       "    <tr>\n",
       "      <th>1</th>\n",
       "      <td>No_clicks</td>\n",
       "      <td>3200.000000</td>\n",
       "    </tr>\n",
       "    <tr>\n",
       "      <th>2</th>\n",
       "      <td>No_enrollments</td>\n",
       "      <td>660.000000</td>\n",
       "    </tr>\n",
       "    <tr>\n",
       "      <th>3</th>\n",
       "      <td>CTP</td>\n",
       "      <td>0.080000</td>\n",
       "    </tr>\n",
       "    <tr>\n",
       "      <th>4</th>\n",
       "      <td>p_enrolling_click</td>\n",
       "      <td>0.206250</td>\n",
       "    </tr>\n",
       "    <tr>\n",
       "      <th>5</th>\n",
       "      <td>p_payment_enroll</td>\n",
       "      <td>0.530000</td>\n",
       "    </tr>\n",
       "    <tr>\n",
       "      <th>6</th>\n",
       "      <td>p_paymet_click</td>\n",
       "      <td>0.109313</td>\n",
       "    </tr>\n",
       "  </tbody>\n",
       "</table>\n",
       "</div>"
      ],
      "text/plain": [
       "              metric  baseline_val\n",
       "0         No_cookies  40000.000000\n",
       "1          No_clicks   3200.000000\n",
       "2     No_enrollments    660.000000\n",
       "3                CTP      0.080000\n",
       "4  p_enrolling_click      0.206250\n",
       "5   p_payment_enroll      0.530000\n",
       "6     p_paymet_click      0.109313"
      ]
     },
     "execution_count": 187,
     "metadata": {},
     "output_type": "execute_result"
    }
   ],
   "source": [
    "df_basevals.metric = ['No_cookies', 'No_clicks', 'No_enrollments', 'CTP',\n",
    "                      'p_enrolling_click', 'p_payment_enroll', 'p_paymet_click']\n",
    "df_basevals"
   ]
  },
  {
   "cell_type": "code",
   "execution_count": 188,
   "metadata": {},
   "outputs": [],
   "source": [
    "No_cookies = 40000\n",
    "No_clicks = 3200\n",
    "No_enrollments = 660\n",
    "CTP = 0.08\n",
    "p_enrolling_click = 0.20625\n",
    "p_payment_enroll = 0.53\n",
    "p_paymet_click = 0.109313"
   ]
  },
  {
   "cell_type": "markdown",
   "metadata": {},
   "source": [
    "### SD of Gross Conversion"
   ]
  },
  {
   "cell_type": "code",
   "execution_count": 189,
   "metadata": {},
   "outputs": [
    {
     "data": {
      "text/plain": [
       "0.0202"
      ]
     },
     "execution_count": 189,
     "metadata": {},
     "output_type": "execute_result"
    }
   ],
   "source": [
    "sd_GrossCvs = round(np.sqrt(p_enrolling_click * (1 - p_enrolling_click)/(pageviews * No_clicks / No_cookies)), 4)\n",
    "sd_GrossCvs"
   ]
  },
  {
   "cell_type": "markdown",
   "metadata": {},
   "source": [
    "### SD of Retention"
   ]
  },
  {
   "cell_type": "code",
   "execution_count": 190,
   "metadata": {},
   "outputs": [
    {
     "data": {
      "text/plain": [
       "0.0549"
      ]
     },
     "execution_count": 190,
     "metadata": {},
     "output_type": "execute_result"
    }
   ],
   "source": [
    "sd_retention = round(np.sqrt(p_payment_enroll * (1 - p_payment_enroll) / (pageviews * No_enrollments / No_cookies)), 4)\n",
    "sd_retention"
   ]
  },
  {
   "cell_type": "markdown",
   "metadata": {},
   "source": [
    "### SD of Net Conversion"
   ]
  },
  {
   "cell_type": "code",
   "execution_count": 191,
   "metadata": {},
   "outputs": [
    {
     "data": {
      "text/plain": [
       "0.0156"
      ]
     },
     "execution_count": 191,
     "metadata": {},
     "output_type": "execute_result"
    }
   ],
   "source": [
    "sd_netCvs = round(np.sqrt(p_paymet_click * (1 - p_paymet_click) / (pageviews * No_clicks / No_cookies)), 4)\n",
    "sd_netCvs"
   ]
  },
  {
   "cell_type": "markdown",
   "metadata": {},
   "source": [
    "## Step 3: Calcuating number of pageviews"
   ]
  },
  {
   "cell_type": "markdown",
   "metadata": {},
   "source": [
    "### Will you using bonferroni correction in your analysis phase? \n",
    "### - Yes, since there is more than one evaluation metrics."
   ]
  },
  {
   "cell_type": "code",
   "execution_count": 193,
   "metadata": {},
   "outputs": [
    {
     "data": {
      "text/plain": [
       "0.016666666666666666"
      ]
     },
     "execution_count": 193,
     "metadata": {},
     "output_type": "execute_result"
    }
   ],
   "source": [
    "alpha = 0.05\n",
    "beta = 0.2\n",
    "alpha_bv = alpha / 3\n",
    "alpha_bv"
   ]
  },
  {
   "cell_type": "markdown",
   "metadata": {},
   "source": [
    "### Using the online calcuator - http://www.evanmiller.org/ab-testing/sample-size.html"
   ]
  },
  {
   "cell_type": "markdown",
   "metadata": {},
   "source": [
    "### Gross Convesion\n",
    "Baseline Conversion: 20.625%<br>\n",
    "Minimum Detectable Effect: 1%<br>"
   ]
  },
  {
   "cell_type": "code",
   "execution_count": 194,
   "metadata": {},
   "outputs": [],
   "source": [
    "size_grossCvs = 33014"
   ]
  },
  {
   "cell_type": "markdown",
   "metadata": {},
   "source": [
    "### Retention\n",
    "Baseline Conversion: 53%<br>\n",
    "Minimum Detectable Effect: 1%<br>"
   ]
  },
  {
   "cell_type": "code",
   "execution_count": 195,
   "metadata": {},
   "outputs": [],
   "source": [
    "size_retention = 50013"
   ]
  },
  {
   "cell_type": "markdown",
   "metadata": {},
   "source": [
    "### Net Convesion\n",
    "Baseline Conversion: 0.1093125%<br>\n",
    "Minimum Detectable Effect: 0.75%<br>"
   ]
  },
  {
   "cell_type": "code",
   "execution_count": 196,
   "metadata": {},
   "outputs": [],
   "source": [
    "size_netCvs = 35016"
   ]
  },
  {
   "cell_type": "code",
   "execution_count": 197,
   "metadata": {},
   "outputs": [],
   "source": [
    "NO_groups = 2 #control and experiment groups"
   ]
  },
  {
   "cell_type": "code",
   "execution_count": 198,
   "metadata": {},
   "outputs": [],
   "source": [
    "pageV_grossCvs = No_cookies * size_grossCvs * NO_groups / No_clicks\n",
    "pageV_retention = No_cookies * size_retention * NO_groups / No_enrollments\n",
    "pagev_netCvs = No_cookies * size_netCvs * NO_groups / No_clicks"
   ]
  },
  {
   "cell_type": "code",
   "execution_count": 199,
   "metadata": {},
   "outputs": [
    {
     "data": {
      "text/html": [
       "<div>\n",
       "<style scoped>\n",
       "    .dataframe tbody tr th:only-of-type {\n",
       "        vertical-align: middle;\n",
       "    }\n",
       "\n",
       "    .dataframe tbody tr th {\n",
       "        vertical-align: top;\n",
       "    }\n",
       "\n",
       "    .dataframe thead th {\n",
       "        text-align: right;\n",
       "    }\n",
       "</style>\n",
       "<table border=\"1\" class=\"dataframe\">\n",
       "  <thead>\n",
       "    <tr style=\"text-align: right;\">\n",
       "      <th></th>\n",
       "      <th>metric</th>\n",
       "      <th>pageviews</th>\n",
       "    </tr>\n",
       "  </thead>\n",
       "  <tbody>\n",
       "    <tr>\n",
       "      <th>0</th>\n",
       "      <td>Gross Convesion</td>\n",
       "      <td>8.253500e+05</td>\n",
       "    </tr>\n",
       "    <tr>\n",
       "      <th>1</th>\n",
       "      <td>Retention</td>\n",
       "      <td>6.062182e+06</td>\n",
       "    </tr>\n",
       "    <tr>\n",
       "      <th>2</th>\n",
       "      <td>Net Convesion</td>\n",
       "      <td>8.754000e+05</td>\n",
       "    </tr>\n",
       "  </tbody>\n",
       "</table>\n",
       "</div>"
      ],
      "text/plain": [
       "            metric     pageviews\n",
       "0  Gross Convesion  8.253500e+05\n",
       "1        Retention  6.062182e+06\n",
       "2    Net Convesion  8.754000e+05"
      ]
     },
     "execution_count": 199,
     "metadata": {},
     "output_type": "execute_result"
    }
   ],
   "source": [
    "data_pagev = {'metric' :['Gross Convesion', 'Retention', 'Net Convesion'], 'pageviews' : [pageV_grossCvs, pageV_retention, pagev_netCvs]}\n",
    "df_pageview = pd.DataFrame( data_pagev)\n",
    "df_pageview"
   ]
  },
  {
   "cell_type": "code",
   "execution_count": 200,
   "metadata": {},
   "outputs": [
    {
     "data": {
      "text/html": [
       "<div>\n",
       "<style scoped>\n",
       "    .dataframe tbody tr th:only-of-type {\n",
       "        vertical-align: middle;\n",
       "    }\n",
       "\n",
       "    .dataframe tbody tr th {\n",
       "        vertical-align: top;\n",
       "    }\n",
       "\n",
       "    .dataframe thead th {\n",
       "        text-align: right;\n",
       "    }\n",
       "</style>\n",
       "<table border=\"1\" class=\"dataframe\">\n",
       "  <thead>\n",
       "    <tr style=\"text-align: right;\">\n",
       "      <th></th>\n",
       "      <th>metric</th>\n",
       "      <th>pageviews</th>\n",
       "      <th>duration</th>\n",
       "    </tr>\n",
       "  </thead>\n",
       "  <tbody>\n",
       "    <tr>\n",
       "      <th>0</th>\n",
       "      <td>Gross Convesion</td>\n",
       "      <td>8.253500e+05</td>\n",
       "      <td>34.389583</td>\n",
       "    </tr>\n",
       "    <tr>\n",
       "      <th>1</th>\n",
       "      <td>Retention</td>\n",
       "      <td>6.062182e+06</td>\n",
       "      <td>252.590909</td>\n",
       "    </tr>\n",
       "    <tr>\n",
       "      <th>2</th>\n",
       "      <td>Net Convesion</td>\n",
       "      <td>8.754000e+05</td>\n",
       "      <td>36.475000</td>\n",
       "    </tr>\n",
       "  </tbody>\n",
       "</table>\n",
       "</div>"
      ],
      "text/plain": [
       "            metric     pageviews    duration\n",
       "0  Gross Convesion  8.253500e+05   34.389583\n",
       "1        Retention  6.062182e+06  252.590909\n",
       "2    Net Convesion  8.754000e+05   36.475000"
      ]
     },
     "execution_count": 200,
     "metadata": {},
     "output_type": "execute_result"
    }
   ],
   "source": [
    "traffic_exposed = 0.6\n",
    "df_pageview['duration'] = df_pageview['pageviews'] / (traffic_exposed * No_cookies)\n",
    "df_pageview"
   ]
  },
  {
   "cell_type": "markdown",
   "metadata": {},
   "source": [
    "### 252.6 days is too long, so I will only take gross conversion and net conversion as evaluation metrics and using alpha_bv = alpha/2 recalculate #pagevies and duration."
   ]
  },
  {
   "cell_type": "code",
   "execution_count": 201,
   "metadata": {},
   "outputs": [],
   "source": [
    "alpha_bv = alpha/2"
   ]
  },
  {
   "cell_type": "markdown",
   "metadata": {},
   "source": [
    "### Number of pageview is 875,400 and take 36.5 days to run the experiment."
   ]
  },
  {
   "cell_type": "markdown",
   "metadata": {},
   "source": [
    "## Step 4: Sanity Checks"
   ]
  },
  {
   "cell_type": "code",
   "execution_count": 202,
   "metadata": {},
   "outputs": [
    {
     "data": {
      "text/html": [
       "<div>\n",
       "<style scoped>\n",
       "    .dataframe tbody tr th:only-of-type {\n",
       "        vertical-align: middle;\n",
       "    }\n",
       "\n",
       "    .dataframe tbody tr th {\n",
       "        vertical-align: top;\n",
       "    }\n",
       "\n",
       "    .dataframe thead th {\n",
       "        text-align: right;\n",
       "    }\n",
       "</style>\n",
       "<table border=\"1\" class=\"dataframe\">\n",
       "  <thead>\n",
       "    <tr style=\"text-align: right;\">\n",
       "      <th></th>\n",
       "      <th>Date</th>\n",
       "      <th>Pageviews</th>\n",
       "      <th>Clicks</th>\n",
       "      <th>Enrollments</th>\n",
       "      <th>Payments</th>\n",
       "    </tr>\n",
       "  </thead>\n",
       "  <tbody>\n",
       "    <tr>\n",
       "      <th>0</th>\n",
       "      <td>Sat, Oct 11</td>\n",
       "      <td>7723</td>\n",
       "      <td>687</td>\n",
       "      <td>134.0</td>\n",
       "      <td>70.0</td>\n",
       "    </tr>\n",
       "    <tr>\n",
       "      <th>1</th>\n",
       "      <td>Sun, Oct 12</td>\n",
       "      <td>9102</td>\n",
       "      <td>779</td>\n",
       "      <td>147.0</td>\n",
       "      <td>70.0</td>\n",
       "    </tr>\n",
       "    <tr>\n",
       "      <th>2</th>\n",
       "      <td>Mon, Oct 13</td>\n",
       "      <td>10511</td>\n",
       "      <td>909</td>\n",
       "      <td>167.0</td>\n",
       "      <td>95.0</td>\n",
       "    </tr>\n",
       "    <tr>\n",
       "      <th>3</th>\n",
       "      <td>Tue, Oct 14</td>\n",
       "      <td>9871</td>\n",
       "      <td>836</td>\n",
       "      <td>156.0</td>\n",
       "      <td>105.0</td>\n",
       "    </tr>\n",
       "    <tr>\n",
       "      <th>4</th>\n",
       "      <td>Wed, Oct 15</td>\n",
       "      <td>10014</td>\n",
       "      <td>837</td>\n",
       "      <td>163.0</td>\n",
       "      <td>64.0</td>\n",
       "    </tr>\n",
       "  </tbody>\n",
       "</table>\n",
       "</div>"
      ],
      "text/plain": [
       "          Date  Pageviews  Clicks  Enrollments  Payments\n",
       "0  Sat, Oct 11       7723     687        134.0      70.0\n",
       "1  Sun, Oct 12       9102     779        147.0      70.0\n",
       "2  Mon, Oct 13      10511     909        167.0      95.0\n",
       "3  Tue, Oct 14       9871     836        156.0     105.0\n",
       "4  Wed, Oct 15      10014     837        163.0      64.0"
      ]
     },
     "execution_count": 202,
     "metadata": {},
     "output_type": "execute_result"
    }
   ],
   "source": [
    "df_control = pd.read_csv('/Users/pan/Desktop/A:B Testing/data/Final Project Results - Control.csv')\n",
    "df_Experiment = pd.read_csv('/Users/pan/Desktop/A:B Testing/data/Final Project Results - Experiment.csv')\n",
    "df_sanityChk = pd.DataFrame({'invarant metrics' :['No_cookies', 'No_clicks', 'TRP']})\n",
    "df_control.head()"
   ]
  },
  {
   "cell_type": "code",
   "execution_count": 203,
   "metadata": {},
   "outputs": [],
   "source": [
    "total_cookies_control = sum(df_control['Pageviews'])\n",
    "total_clicks_control = sum(df_control['Clicks'])\n",
    "total_TRP_control = total_clicks_control / total_cookies_control"
   ]
  },
  {
   "cell_type": "code",
   "execution_count": 204,
   "metadata": {},
   "outputs": [],
   "source": [
    "total_cookies_Experiment = sum(df_Experiment['Pageviews'])\n",
    "total_clicks_Experiment = sum(df_Experiment['Clicks'])\n",
    "total_TRP_Experiment = total_clicks_Experiment / total_cookies_Experiment"
   ]
  },
  {
   "cell_type": "code",
   "execution_count": 205,
   "metadata": {},
   "outputs": [],
   "source": [
    "df_sanityChk['control'] =[total_cookies_control, total_clicks_control, total_TRP_control]\n",
    "df_sanityChk['Experiment'] =[total_cookies_Experiment, total_clicks_Experiment, total_TRP_Experiment]\n",
    "df_sanityChk['p'] = [0.5, 0.5, total_TRP_control]"
   ]
  },
  {
   "cell_type": "code",
   "execution_count": 206,
   "metadata": {},
   "outputs": [],
   "source": [
    "sd_cookies = np.sqrt(0.5* 0.5 / (total_cookies_control + total_cookies_Experiment)) \n",
    "sd_clicks = np.sqrt(0.5* 0.5 / (total_clicks_control + total_clicks_Experiment)) \n",
    "sd_CTP = np.sqrt(total_TRP_control * (1 - total_TRP_control) / total_cookies_control)\n",
    "df_sanityChk['sd'] = [sd_cookies, sd_clicks, sd_CTP]"
   ]
  },
  {
   "cell_type": "code",
   "execution_count": 207,
   "metadata": {},
   "outputs": [],
   "source": [
    "z_value = scipy.stats.norm.ppf(1 - alpha_bv / 2)"
   ]
  },
  {
   "cell_type": "code",
   "execution_count": 208,
   "metadata": {},
   "outputs": [
    {
     "data": {
      "text/html": [
       "<div>\n",
       "<style scoped>\n",
       "    .dataframe tbody tr th:only-of-type {\n",
       "        vertical-align: middle;\n",
       "    }\n",
       "\n",
       "    .dataframe tbody tr th {\n",
       "        vertical-align: top;\n",
       "    }\n",
       "\n",
       "    .dataframe thead th {\n",
       "        text-align: right;\n",
       "    }\n",
       "</style>\n",
       "<table border=\"1\" class=\"dataframe\">\n",
       "  <thead>\n",
       "    <tr style=\"text-align: right;\">\n",
       "      <th></th>\n",
       "      <th>invarant metrics</th>\n",
       "      <th>control</th>\n",
       "      <th>Experiment</th>\n",
       "      <th>p</th>\n",
       "      <th>sd</th>\n",
       "      <th>margin</th>\n",
       "      <th>lower_bound</th>\n",
       "      <th>upper_bound</th>\n",
       "      <th>observed</th>\n",
       "      <th>PASS</th>\n",
       "    </tr>\n",
       "  </thead>\n",
       "  <tbody>\n",
       "    <tr>\n",
       "      <th>0</th>\n",
       "      <td>No_cookies</td>\n",
       "      <td>345543.000000</td>\n",
       "      <td>344660.000000</td>\n",
       "      <td>0.500000</td>\n",
       "      <td>0.000602</td>\n",
       "      <td>0.001349</td>\n",
       "      <td>0.498651</td>\n",
       "      <td>0.501349</td>\n",
       "      <td>0.499360</td>\n",
       "      <td>True</td>\n",
       "    </tr>\n",
       "    <tr>\n",
       "      <th>1</th>\n",
       "      <td>No_clicks</td>\n",
       "      <td>28378.000000</td>\n",
       "      <td>28325.000000</td>\n",
       "      <td>0.500000</td>\n",
       "      <td>0.002100</td>\n",
       "      <td>0.004706</td>\n",
       "      <td>0.495294</td>\n",
       "      <td>0.504706</td>\n",
       "      <td>0.499533</td>\n",
       "      <td>True</td>\n",
       "    </tr>\n",
       "    <tr>\n",
       "      <th>2</th>\n",
       "      <td>TRP</td>\n",
       "      <td>0.082126</td>\n",
       "      <td>0.082182</td>\n",
       "      <td>0.082126</td>\n",
       "      <td>0.000467</td>\n",
       "      <td>0.001047</td>\n",
       "      <td>0.081079</td>\n",
       "      <td>0.083173</td>\n",
       "      <td>0.082182</td>\n",
       "      <td>True</td>\n",
       "    </tr>\n",
       "  </tbody>\n",
       "</table>\n",
       "</div>"
      ],
      "text/plain": [
       "  invarant metrics        control     Experiment         p        sd  \\\n",
       "0       No_cookies  345543.000000  344660.000000  0.500000  0.000602   \n",
       "1        No_clicks   28378.000000   28325.000000  0.500000  0.002100   \n",
       "2              TRP       0.082126       0.082182  0.082126  0.000467   \n",
       "\n",
       "     margin  lower_bound  upper_bound  observed  PASS  \n",
       "0  0.001349     0.498651     0.501349  0.499360  True  \n",
       "1  0.004706     0.495294     0.504706  0.499533  True  \n",
       "2  0.001047     0.081079     0.083173  0.082182  True  "
      ]
     },
     "execution_count": 208,
     "metadata": {},
     "output_type": "execute_result"
    }
   ],
   "source": [
    "df_sanityChk['margin'] = df_sanityChk['sd'] * z_value\n",
    "df_sanityChk['lower_bound'] = df_sanityChk['p'] - df_sanityChk['margin']\n",
    "df_sanityChk['upper_bound'] = df_sanityChk['p'] + df_sanityChk['margin']\n",
    "df_sanityChk['observed'] = [total_cookies_Experiment / (total_cookies_Experiment + total_cookies_control),\n",
    "                            total_clicks_Experiment / (total_clicks_Experiment + total_clicks_control),\n",
    "                            total_TRP_Experiment]\n",
    "df_sanityChk[\"PASS\"] = df_sanityChk.apply(lambda x: (x.observed > x.lower_bound) and (x.observed < x.upper_bound),axis=1)\n",
    "df_sanityChk"
   ]
  },
  {
   "cell_type": "markdown",
   "metadata": {},
   "source": [
    "## Step 5: Effect Size Tests"
   ]
  },
  {
   "cell_type": "code",
   "execution_count": 209,
   "metadata": {},
   "outputs": [],
   "source": [
    "df_effectTest = pd.DataFrame({'metric': ['Gross Conversion', 'Net Conversion']})"
   ]
  },
  {
   "cell_type": "code",
   "execution_count": 210,
   "metadata": {},
   "outputs": [
    {
     "data": {
      "text/plain": [
       "['Date', 'Pageviews', 'Clicks', 'Enrollments', 'Payments']"
      ]
     },
     "execution_count": 210,
     "metadata": {},
     "output_type": "execute_result"
    }
   ],
   "source": [
    "effect_control = df_control.dropna()\n",
    "effect_exp = df_Experiment.dropna()\n",
    "list(effect_control)"
   ]
  },
  {
   "cell_type": "code",
   "execution_count": 211,
   "metadata": {},
   "outputs": [],
   "source": [
    "clicks_control = sum(effect_control['Clicks'])\n",
    "enrollments_control = sum(effect_control['Enrollments'])\n",
    "payment_control = sum(effect_control['Payments'])\n",
    "grossCvs_control = enrollments_control / clicks_control\n",
    "netCvs_control = payment_control / clicks_control"
   ]
  },
  {
   "cell_type": "code",
   "execution_count": 212,
   "metadata": {},
   "outputs": [],
   "source": [
    "clicks_exp = sum(effect_exp['Clicks'])\n",
    "enrollments_exp = sum(effect_exp['Enrollments'])\n",
    "payment_exp = sum(effect_exp['Payments'])\n",
    "grossCvs_exp = enrollments_exp / clicks_exp\n",
    "netCvs_exp = payment_exp / clicks_exp"
   ]
  },
  {
   "cell_type": "code",
   "execution_count": 213,
   "metadata": {},
   "outputs": [],
   "source": [
    "p_gross = (enrollments_control + enrollments_exp)/(clicks_control + clicks_exp)\n",
    "p_net = (payment_control + payment_exp)/(clicks_control + clicks_exp)"
   ]
  },
  {
   "cell_type": "code",
   "execution_count": 214,
   "metadata": {},
   "outputs": [],
   "source": [
    "sd_gross = np.sqrt(grossCvs_control*(1 -grossCvs_control)/clicks_control + grossCvs_exp*(1-grossCvs_exp)/clicks_exp)\n",
    "sd_net = np.sqrt(netCvs_control*(1 - netCvs_control)/clicks_control + netCvs_exp*(1 - netCvs_exp)/clicks_exp)"
   ]
  },
  {
   "cell_type": "code",
   "execution_count": 215,
   "metadata": {},
   "outputs": [],
   "source": [
    "df_effectTest['p_pool'] = [p_gross, p_net]\n",
    "df_effectTest['sd'] = [sd_gross, sd_net]\n",
    "df_effectTest['margin'] = df_effectTest['sd'] * z_value\n",
    "df_effectTest['different'] = [grossCvs_exp - grossCvs_control, netCvs_exp - netCvs_control]\n",
    "df_effectTest['lower_bound'] = df_effectTest['different'] - df_effectTest['margin']\n",
    "df_effectTest['upper_bound'] = df_effectTest['different'] + df_effectTest['margin']"
   ]
  },
  {
   "cell_type": "markdown",
   "metadata": {},
   "source": [
    "#### A metric is statistically significant if the confidence interval does not include 0 (that is, you can be confident there was a change),<br>it is practically significant if the confidence interval does not include the practical significance boundary (that is, you can be confident there is a change that matters to the business.)"
   ]
  },
  {
   "cell_type": "code",
   "execution_count": 216,
   "metadata": {},
   "outputs": [
    {
     "data": {
      "text/html": [
       "<div>\n",
       "<style scoped>\n",
       "    .dataframe tbody tr th:only-of-type {\n",
       "        vertical-align: middle;\n",
       "    }\n",
       "\n",
       "    .dataframe tbody tr th {\n",
       "        vertical-align: top;\n",
       "    }\n",
       "\n",
       "    .dataframe thead th {\n",
       "        text-align: right;\n",
       "    }\n",
       "</style>\n",
       "<table border=\"1\" class=\"dataframe\">\n",
       "  <thead>\n",
       "    <tr style=\"text-align: right;\">\n",
       "      <th></th>\n",
       "      <th>metric</th>\n",
       "      <th>p_pool</th>\n",
       "      <th>sd</th>\n",
       "      <th>margin</th>\n",
       "      <th>different</th>\n",
       "      <th>lower_bound</th>\n",
       "      <th>upper_bound</th>\n",
       "      <th>statistically significant</th>\n",
       "      <th>d_min_upper</th>\n",
       "      <th>d_min_lower</th>\n",
       "      <th>practically significant</th>\n",
       "    </tr>\n",
       "  </thead>\n",
       "  <tbody>\n",
       "    <tr>\n",
       "      <th>0</th>\n",
       "      <td>Gross Conversion</td>\n",
       "      <td>0.208607</td>\n",
       "      <td>0.004370</td>\n",
       "      <td>0.009795</td>\n",
       "      <td>-0.020555</td>\n",
       "      <td>-0.030350</td>\n",
       "      <td>-0.010760</td>\n",
       "      <td>True</td>\n",
       "      <td>0.0100</td>\n",
       "      <td>-0.0100</td>\n",
       "      <td>True</td>\n",
       "    </tr>\n",
       "    <tr>\n",
       "      <th>1</th>\n",
       "      <td>Net Conversion</td>\n",
       "      <td>0.115127</td>\n",
       "      <td>0.003434</td>\n",
       "      <td>0.007697</td>\n",
       "      <td>-0.004874</td>\n",
       "      <td>-0.012571</td>\n",
       "      <td>0.002823</td>\n",
       "      <td>False</td>\n",
       "      <td>0.0075</td>\n",
       "      <td>-0.0075</td>\n",
       "      <td>False</td>\n",
       "    </tr>\n",
       "  </tbody>\n",
       "</table>\n",
       "</div>"
      ],
      "text/plain": [
       "             metric    p_pool        sd    margin  different  lower_bound  \\\n",
       "0  Gross Conversion  0.208607  0.004370  0.009795  -0.020555    -0.030350   \n",
       "1    Net Conversion  0.115127  0.003434  0.007697  -0.004874    -0.012571   \n",
       "\n",
       "   upper_bound  statistically significant  d_min_upper  d_min_lower  \\\n",
       "0    -0.010760                       True       0.0100      -0.0100   \n",
       "1     0.002823                      False       0.0075      -0.0075   \n",
       "\n",
       "   practically significant  \n",
       "0                     True  \n",
       "1                    False  "
      ]
     },
     "execution_count": 216,
     "metadata": {},
     "output_type": "execute_result"
    }
   ],
   "source": [
    "df_effectTest['statistically significant'] = df_effectTest.apply(lambda x: (x.lower_bound > 0) or (x.upper_bound < 0),axis=1)\n",
    "df_effectTest['d_min_upper'] = [0.01, 0.0075]\n",
    "df_effectTest['d_min_lower'] = [-0.01, -0.0075]\n",
    "df_effectTest['practically significant'] = df_effectTest.apply(lambda x: (x.lower_bound > x.d_min_upper) or (x.upper_bound < x.d_min_lower), axis = 1)\n",
    "df_effectTest"
   ]
  },
  {
   "cell_type": "markdown",
   "metadata": {},
   "source": [
    "## Step 6: Sign Tests"
   ]
  },
  {
   "cell_type": "code",
   "execution_count": 219,
   "metadata": {},
   "outputs": [
    {
     "data": {
      "text/html": [
       "<div>\n",
       "<style scoped>\n",
       "    .dataframe tbody tr th:only-of-type {\n",
       "        vertical-align: middle;\n",
       "    }\n",
       "\n",
       "    .dataframe tbody tr th {\n",
       "        vertical-align: top;\n",
       "    }\n",
       "\n",
       "    .dataframe thead th {\n",
       "        text-align: right;\n",
       "    }\n",
       "</style>\n",
       "<table border=\"1\" class=\"dataframe\">\n",
       "  <thead>\n",
       "    <tr style=\"text-align: right;\">\n",
       "      <th></th>\n",
       "      <th>Date</th>\n",
       "      <th>grossCvs_control</th>\n",
       "      <th>grossCvs_exp</th>\n",
       "      <th>netCvs_control</th>\n",
       "      <th>netCvs_exp</th>\n",
       "    </tr>\n",
       "  </thead>\n",
       "  <tbody>\n",
       "    <tr>\n",
       "      <th>0</th>\n",
       "      <td>Sat, Oct 11</td>\n",
       "      <td>0.195051</td>\n",
       "      <td>0.153061</td>\n",
       "      <td>0.101892</td>\n",
       "      <td>0.049563</td>\n",
       "    </tr>\n",
       "    <tr>\n",
       "      <th>1</th>\n",
       "      <td>Sun, Oct 12</td>\n",
       "      <td>0.188703</td>\n",
       "      <td>0.147771</td>\n",
       "      <td>0.089859</td>\n",
       "      <td>0.115924</td>\n",
       "    </tr>\n",
       "    <tr>\n",
       "      <th>2</th>\n",
       "      <td>Mon, Oct 13</td>\n",
       "      <td>0.183718</td>\n",
       "      <td>0.164027</td>\n",
       "      <td>0.104510</td>\n",
       "      <td>0.089367</td>\n",
       "    </tr>\n",
       "    <tr>\n",
       "      <th>3</th>\n",
       "      <td>Tue, Oct 14</td>\n",
       "      <td>0.186603</td>\n",
       "      <td>0.166868</td>\n",
       "      <td>0.125598</td>\n",
       "      <td>0.111245</td>\n",
       "    </tr>\n",
       "    <tr>\n",
       "      <th>4</th>\n",
       "      <td>Wed, Oct 15</td>\n",
       "      <td>0.194743</td>\n",
       "      <td>0.168269</td>\n",
       "      <td>0.076464</td>\n",
       "      <td>0.112981</td>\n",
       "    </tr>\n",
       "  </tbody>\n",
       "</table>\n",
       "</div>"
      ],
      "text/plain": [
       "          Date  grossCvs_control  grossCvs_exp  netCvs_control  netCvs_exp\n",
       "0  Sat, Oct 11          0.195051      0.153061        0.101892    0.049563\n",
       "1  Sun, Oct 12          0.188703      0.147771        0.089859    0.115924\n",
       "2  Mon, Oct 13          0.183718      0.164027        0.104510    0.089367\n",
       "3  Tue, Oct 14          0.186603      0.166868        0.125598    0.111245\n",
       "4  Wed, Oct 15          0.194743      0.168269        0.076464    0.112981"
      ]
     },
     "execution_count": 219,
     "metadata": {},
     "output_type": "execute_result"
    }
   ],
   "source": [
    "df_signTest = pd.DataFrame(effect_control['Date'])\n",
    "df_signTest['grossCvs_control'] = effect_control['Enrollments'] / effect_control['Clicks']\n",
    "df_signTest['grossCvs_exp'] = effect_exp['Enrollments'] / effect_exp['Clicks']\n",
    "df_signTest['netCvs_control'] = effect_control['Payments'] / effect_control['Clicks']\n",
    "df_signTest['netCvs_exp'] = effect_exp['Payments'] / effect_exp['Clicks']\n",
    "df_signTest.head()"
   ]
  },
  {
   "cell_type": "code",
   "execution_count": 226,
   "metadata": {},
   "outputs": [
    {
     "data": {
      "text/plain": [
       "19"
      ]
     },
     "execution_count": 226,
     "metadata": {},
     "output_type": "execute_result"
    }
   ],
   "source": [
    "df_signTest['grossCvs_sign'] = df_signTest['grossCvs_control'] - df_signTest['grossCvs_exp']\n",
    "No_sucesses_grossCvs = len(df_signTest[df_signTest.grossCvs_sign > 0])\n",
    "No_sucesses_grossCvs"
   ]
  },
  {
   "cell_type": "code",
   "execution_count": 227,
   "metadata": {},
   "outputs": [
    {
     "data": {
      "text/plain": [
       "13"
      ]
     },
     "execution_count": 227,
     "metadata": {},
     "output_type": "execute_result"
    }
   ],
   "source": [
    "df_signTest['netCvs_sign'] = df_signTest['netCvs_control'] - df_signTest['netCvs_exp']\n",
    "No_sucesses_netCvs = len(df_signTest[df_signTest.netCvs_sign > 0])\n",
    "No_sucesses_netCvs"
   ]
  },
  {
   "cell_type": "code",
   "execution_count": 228,
   "metadata": {},
   "outputs": [
    {
     "data": {
      "text/plain": [
       "23"
      ]
     },
     "execution_count": 228,
     "metadata": {},
     "output_type": "execute_result"
    }
   ],
   "source": [
    "No_trials = len(df_signTest)\n",
    "No_trials"
   ]
  },
  {
   "cell_type": "markdown",
   "metadata": {},
   "source": [
    "### Using the online calculator to calculate the two-tail p value. https://www.graphpad.com/quickcalcs/binomial1/"
   ]
  },
  {
   "cell_type": "code",
   "execution_count": 241,
   "metadata": {},
   "outputs": [
    {
     "data": {
      "text/html": [
       "<div>\n",
       "<style scoped>\n",
       "    .dataframe tbody tr th:only-of-type {\n",
       "        vertical-align: middle;\n",
       "    }\n",
       "\n",
       "    .dataframe tbody tr th {\n",
       "        vertical-align: top;\n",
       "    }\n",
       "\n",
       "    .dataframe thead th {\n",
       "        text-align: right;\n",
       "    }\n",
       "</style>\n",
       "<table border=\"1\" class=\"dataframe\">\n",
       "  <thead>\n",
       "    <tr style=\"text-align: right;\">\n",
       "      <th></th>\n",
       "      <th>metric</th>\n",
       "      <th>p_value</th>\n",
       "      <th>statistical significance</th>\n",
       "    </tr>\n",
       "  </thead>\n",
       "  <tbody>\n",
       "    <tr>\n",
       "      <th>0</th>\n",
       "      <td>grossCvs</td>\n",
       "      <td>0.0026</td>\n",
       "      <td>True</td>\n",
       "    </tr>\n",
       "    <tr>\n",
       "      <th>1</th>\n",
       "      <td>netCvs</td>\n",
       "      <td>0.6776</td>\n",
       "      <td>False</td>\n",
       "    </tr>\n",
       "  </tbody>\n",
       "</table>\n",
       "</div>"
      ],
      "text/plain": [
       "     metric  p_value  statistical significance\n",
       "0  grossCvs   0.0026                      True\n",
       "1    netCvs   0.6776                     False"
      ]
     },
     "execution_count": 241,
     "metadata": {},
     "output_type": "execute_result"
    }
   ],
   "source": [
    "df_signTest_result = pd.DataFrame({'metric':['grossCvs', 'netCvs']})\n",
    "df_signTest_result['p_value'] = [0.0026, 0.6776]\n",
    "\n",
    "df_signTest_result['statistical significance'] = df_signTest_result['p_value'] < 0.5\n",
    "df_signTest_result"
   ]
  },
  {
   "cell_type": "code",
   "execution_count": null,
   "metadata": {},
   "outputs": [],
   "source": []
  }
 ],
 "metadata": {
  "kernelspec": {
   "display_name": "Python 3",
   "language": "python",
   "name": "python3"
  },
  "language_info": {
   "codemirror_mode": {
    "name": "ipython",
    "version": 3
   },
   "file_extension": ".py",
   "mimetype": "text/x-python",
   "name": "python",
   "nbconvert_exporter": "python",
   "pygments_lexer": "ipython3",
   "version": "3.6.5"
  }
 },
 "nbformat": 4,
 "nbformat_minor": 2
}
